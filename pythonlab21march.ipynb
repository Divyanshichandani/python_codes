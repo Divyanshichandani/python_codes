{
  "nbformat": 4,
  "nbformat_minor": 0,
  "metadata": {
    "colab": {
      "provenance": [],
      "authorship_tag": "ABX9TyNowxDQsjs+jAjzuDkBHRir",
      "include_colab_link": true
    },
    "kernelspec": {
      "name": "python3",
      "display_name": "Python 3"
    },
    "language_info": {
      "name": "python"
    }
  },
  "cells": [
    {
      "cell_type": "markdown",
      "metadata": {
        "id": "view-in-github",
        "colab_type": "text"
      },
      "source": [
        "<a href=\"https://colab.research.google.com/github/Divyanshichandani/python_codes/blob/main/pythonlab21march.ipynb\" target=\"_parent\"><img src=\"https://colab.research.google.com/assets/colab-badge.svg\" alt=\"Open In Colab\"/></a>"
      ]
    },
    {
      "cell_type": "code",
      "execution_count": 13,
      "metadata": {
        "colab": {
          "base_uri": "https://localhost:8080/"
        },
        "id": "f7kshEOkB9o3",
        "outputId": "d542f373-fea8-45d0-918c-c5db4cbcee3e"
      },
      "outputs": [
        {
          "output_type": "stream",
          "name": "stdout",
          "text": [
            "I am insdie the init of class A\n",
            "insde showA of A\n",
            "divyanshi 500123943\n"
          ]
        }
      ],
      "source": [
        "#class within a class\n",
        "\n",
        "class A:\n",
        "  def __init__(self,x,y):\n",
        "    self.name=x\n",
        "    self.sapid=y\n",
        "\n",
        "    print(\"I am insdie the init of class A\")\n",
        "\n",
        "  def showA(self):\n",
        "    print(\"insde showA of A\")\n",
        "\n",
        "  def attrib(self):\n",
        "    print(self.name,self.sapid)\n",
        "\n",
        "\n",
        "class B:\n",
        "  def __init__(self):\n",
        "      print(\"i am inside an innner class\")\n",
        "  def showB(self):\n",
        "      print(\"i am inside the show of B\")\n",
        "\n",
        "a1 = A(\"divyanshi\",500123943)\n",
        "a1.name\n",
        "a1.showA()\n",
        "a1.attrib()\n"
      ]
    },
    {
      "cell_type": "code",
      "source": [
        "\n",
        "\n",
        "\n"
      ],
      "metadata": {
        "id": "FrUgKedjImlg"
      },
      "execution_count": null,
      "outputs": []
    }
  ]
}